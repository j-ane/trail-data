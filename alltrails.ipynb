{
 "cells": [
  {
   "cell_type": "code",
   "execution_count": 1,
   "metadata": {},
   "outputs": [],
   "source": [
    "### a web scraping project by jane n tom ###\n",
    "\n",
    "import urllib.parse\n",
    "import time\n",
    "import requests\n",
    "import json\n",
    "\n",
    "base = 'https://www.alltrails.com/'\n",
    "# api/alltrails/locations/states/50/trails\n",
    "# ?page=2per_page=100&algolia_formatted=true&country_id=313\n",
    "api = '3p0t5s6b5g4g0e8k3c1j3w7y5c3m4t8i'\n",
    "wait = 0.1"
   ]
  },
  {
   "cell_type": "code",
   "execution_count": 3,
   "metadata": {},
   "outputs": [],
   "source": [
    "# create a function to automate page loading\n",
    "def getStateTrails(stateid, wait = wait, timeout_wait_base = 10):\n",
    "    \n",
    "    path = f'api/alltrails/locations/states/{stateid}/trails'\n",
    "    url = urllib.parse.urljoin(base, path)\n",
    "    headers = {\n",
    "        'x-at-key': api\n",
    "            }\n",
    "    page = 1\n",
    "    timeout_retry_count = 0\n",
    "    while True:\n",
    "        print(f'page {page}')\n",
    "        params = {\n",
    "            'page': page,\n",
    "            'per_page': 100,\n",
    "            'algolia_formatted': True,\n",
    "            'country_id': 313\n",
    "        }\n",
    "        try:\n",
    "            respond = requests.get(\n",
    "                    url, \n",
    "                    params = params, \n",
    "                    headers=headers, \n",
    "                    timeout=10 )\n",
    "        except requests.exceptions.ReadTimeout:\n",
    "            timeout_wait = timeout_wait_base * (2 ** timeout_retry_count)\n",
    "            print(f'API call timed out, waiting {timeout_wait}')\n",
    "            time.sleep(timeout_wait)\n",
    "            timeout_retry_count += 1\n",
    "            continue\n",
    "                \n",
    "        timeout_retry_count= 0 #if backoff ok, reset to base wait\n",
    "        \n",
    "        if not respond.ok:\n",
    "            raise Exception(\n",
    "                f'Bad response from API, state {stateid}, page:{page}'\n",
    "            )\n",
    "            \n",
    "        trails = respond.json()['trails']\n",
    "        \n",
    "        if not trails:\n",
    "            break\n",
    "        yield from trails\n",
    "        \n",
    "        time.sleep(wait)\n",
    "        page += 1\n",
    "        \n",
    "#1600ish expected trails\n",
    "#trails = getStateTrails(39) #rhode island"
   ]
  },
  {
   "cell_type": "code",
   "execution_count": 4,
   "metadata": {},
   "outputs": [],
   "source": [
    "# testing the function on hawaii\n",
    "# sidenote: I need to go hiking in hawaii someday, these trails are unreal\n",
    "def getHawaii(hawaii, wait = wait, timeout_wait_base = 10):\n",
    "    \n",
    "    path = f'api/alltrails/locations/countries/{hawaii}/trails'\n",
    "    url = urllib.parse.urljoin(base, path)\n",
    "    headers = {\n",
    "        'x-at-key': api\n",
    "            }\n",
    "    page = 1\n",
    "    timeout_retry_count = 0\n",
    "    while True:\n",
    "        print(f'page {page}')\n",
    "        params = {\n",
    "            'page': page,\n",
    "            'per_page': 100,\n",
    "            'algolia_formatted': True,\n",
    "        }\n",
    "        try:\n",
    "            respond = requests.get(\n",
    "                    url, \n",
    "                    params = params, \n",
    "                    headers=headers, \n",
    "                    timeout=10 )\n",
    "        except requests.exceptions.ReadTimeout:\n",
    "            timeout_wait = timeout_wait_base * (2 ** timeout_retry_count)\n",
    "            print(f'API call timed out, waiting {timeout_wait}')\n",
    "            time.sleep(timeout_wait)\n",
    "            timeout_retry_count += 1\n",
    "            continue\n",
    "                \n",
    "        timeout_retry_count= 0 #if backoff ok, reset to base wait\n",
    "        \n",
    "        if not respond.ok:\n",
    "            raise Exception(\n",
    "                f'Bad response from API, state {stateid}, page:{page}'\n",
    "            )\n",
    "            \n",
    "        trails = respond.json()['trails']\n",
    "        \n",
    "        if not trails:\n",
    "            break\n",
    "        yield from trails\n",
    "        \n",
    "        time.sleep(wait)\n",
    "        page += 1"
   ]
  },
  {
   "cell_type": "code",
   "execution_count": 6,
   "metadata": {},
   "outputs": [
    {
     "data": {
      "text/plain": [
       "<generator object getHawaii at 0x10ed4d5e8>"
      ]
     },
     "execution_count": 6,
     "metadata": {},
     "output_type": "execute_result"
    }
   ],
   "source": [
    "#trails = getStateTrails(39) #penn\n",
    "trails = getHawaii(366)"
   ]
  },
  {
   "cell_type": "code",
   "execution_count": 8,
   "metadata": {},
   "outputs": [
    {
     "name": "stdout",
     "output_type": "stream",
     "text": [
      "page 1\n"
     ]
    },
    {
     "ename": "NameError",
     "evalue": "name 'stateid' is not defined",
     "output_type": "error",
     "traceback": [
      "\u001b[0;31m---------------------------------------------------------------------------\u001b[0m",
      "\u001b[0;31mNameError\u001b[0m                                 Traceback (most recent call last)",
      "\u001b[0;32m<ipython-input-8-98df4c69a318>\u001b[0m in \u001b[0;36m<module>\u001b[0;34m\u001b[0m\n\u001b[1;32m      2\u001b[0m \u001b[0mtrails\u001b[0m \u001b[0;34m=\u001b[0m \u001b[0;34m[\u001b[0m\u001b[0;34m]\u001b[0m\u001b[0;34m\u001b[0m\u001b[0;34m\u001b[0m\u001b[0m\n\u001b[1;32m      3\u001b[0m \u001b[0;32mfor\u001b[0m \u001b[0mi\u001b[0m \u001b[0;32min\u001b[0m \u001b[0mrange\u001b[0m \u001b[0;34m(\u001b[0m\u001b[0;36m1\u001b[0m\u001b[0;34m,\u001b[0m \u001b[0;36m50\u001b[0m \u001b[0;34m+\u001b[0m\u001b[0;36m1\u001b[0m\u001b[0;34m)\u001b[0m\u001b[0;34m:\u001b[0m\u001b[0;34m\u001b[0m\u001b[0;34m\u001b[0m\u001b[0m\n\u001b[0;32m----> 4\u001b[0;31m     \u001b[0mtrails\u001b[0m \u001b[0;34m=\u001b[0m \u001b[0mlist\u001b[0m\u001b[0;34m(\u001b[0m\u001b[0mgetHawaii\u001b[0m\u001b[0;34m(\u001b[0m\u001b[0mi\u001b[0m\u001b[0;34m)\u001b[0m\u001b[0;34m)\u001b[0m\u001b[0;34m\u001b[0m\u001b[0;34m\u001b[0m\u001b[0m\n\u001b[0m\u001b[1;32m      5\u001b[0m \u001b[0;34m\u001b[0m\u001b[0m\n",
      "\u001b[0;32m<ipython-input-4-db4a4b06763e>\u001b[0m in \u001b[0;36mgetHawaii\u001b[0;34m(hawaii, wait, timeout_wait_base)\u001b[0m\n\u001b[1;32m     34\u001b[0m         \u001b[0;32mif\u001b[0m \u001b[0;32mnot\u001b[0m \u001b[0mrespond\u001b[0m\u001b[0;34m.\u001b[0m\u001b[0mok\u001b[0m\u001b[0;34m:\u001b[0m\u001b[0;34m\u001b[0m\u001b[0;34m\u001b[0m\u001b[0m\n\u001b[1;32m     35\u001b[0m             raise Exception(\n\u001b[0;32m---> 36\u001b[0;31m                 \u001b[0;34mf'Bad response from API, state {stateid}, page:{page}'\u001b[0m\u001b[0;34m\u001b[0m\u001b[0;34m\u001b[0m\u001b[0m\n\u001b[0m\u001b[1;32m     37\u001b[0m             )\n\u001b[1;32m     38\u001b[0m \u001b[0;34m\u001b[0m\u001b[0m\n",
      "\u001b[0;31mNameError\u001b[0m: name 'stateid' is not defined"
     ]
    }
   ],
   "source": [
    "# put it into action as it loops through each state, let it run for awhile\n",
    "#trails = []\n",
    "#for i in range (1, 50 +1):\n",
    "#    trails = list(getStateTrails(i))\n",
    "    "
   ]
  },
  {
   "cell_type": "code",
   "execution_count": 45,
   "metadata": {},
   "outputs": [
    {
     "name": "stdout",
     "output_type": "stream",
     "text": [
      "page 1\n"
     ]
    },
    {
     "data": {
      "text/plain": [
       "{'objectID': 'trail-10003291',\n",
       " 'ID': 10003291,\n",
       " 'slug': 'hawaii/oahu/manoa-falls-trail',\n",
       " 'name': 'Manoa Falls Trail',\n",
       " 'popularity': 54.6003,\n",
       " 'type': 'trail',\n",
       " '_geoloc': {'lat': 21.3323, 'lng': -157.80054},\n",
       " 'length': 2414.01,\n",
       " 'elevation_gain': 137.7696,\n",
       " 'difficulty_rating': '3',\n",
       " 'route_type': 'O',\n",
       " 'visitor_usage': '4',\n",
       " 'avg_rating': 4.5,\n",
       " 'area_id': 10167632,\n",
       " 'area_name': 'Round Top Forest Reserve',\n",
       " 'country_id': 366,\n",
       " 'country_name': 'Hawaii',\n",
       " 'city_id': 121966,\n",
       " 'city_name': 'Honolulu',\n",
       " 'state_id': 6055,\n",
       " 'state_name': 'Oahu',\n",
       " 'verified_map_id': 24175960,\n",
       " 'features': ['forest',\n",
       "  'kids',\n",
       "  'views',\n",
       "  'waterfall',\n",
       "  'wild-flowers',\n",
       "  'wildlife'],\n",
       " 'activities': ['hiking', 'nature-trips', 'walking'],\n",
       " 'feature_names': ['Forest',\n",
       "  'Kid Friendly',\n",
       "  'Views',\n",
       "  'Waterfall',\n",
       "  'Wild Flowers',\n",
       "  'Wildlife'],\n",
       " 'activity_names': ['Hiking', 'Nature Trips', 'Walking'],\n",
       " 'overview': None,\n",
       " 'num_reviews': 2832,\n",
       " 'units': 'm',\n",
       " 'area_slug': 'parks/hawaii/oahu/round-top-forest-reserve',\n",
       " 'trail_id': 10003291,\n",
       " 'city_url': 'hawaii/oahu/honolulu',\n",
       " 'park_slug': 'hawaii/oahu/round-top-forest-reserve',\n",
       " 'profile_photo_url': 'https://cdn-assets.alltrails.com/uploads/photo/image/11143780/large_cdd71dc40a2cae5d398ec629a405da1b.jpg'}"
      ]
     },
     "execution_count": 45,
     "metadata": {},
     "output_type": "execute_result"
    }
   ],
   "source": [
    "next(trails)"
   ]
  },
  {
   "cell_type": "code",
   "execution_count": 42,
   "metadata": {},
   "outputs": [
    {
     "name": "stdout",
     "output_type": "stream",
     "text": [
      "page 1\n",
      "page 2\n",
      "page 3\n",
      "page 4\n",
      "page 5\n",
      "page 6\n",
      "page 7\n",
      "page 8\n",
      "page 9\n",
      "State 51 (Wyoming) done, 711 trails\n"
     ]
    }
   ],
   "source": [
    "# separate the files by state, when state is completed save the file \n",
    "allTrails = {}\n",
    "\n",
    "for i in range(51,52): #alphabetical states\n",
    "    trails = list(getStateTrails(i, 0))\n",
    "    state = trails[0]['state_name']\n",
    "    with open(f'./State Trails Data/{state}.json', 'w+') as out_file:\n",
    "        out_file.write(json.dumps(trails))\n",
    "        print(f'State {i} ({state}) done, {len(trails)} trails')\n",
    "    \n",
    "    allTrails[i] = trails\n",
    "    #input('next >')"
   ]
  },
  {
   "cell_type": "code",
   "execution_count": 38,
   "metadata": {},
   "outputs": [
    {
     "data": {
      "text/plain": [
       "{'objectID': 'trail-10026910',\n",
       " 'ID': 10026910,\n",
       " 'slug': 'us/california/vernal-and-nevada-falls-via-the-mist-trail',\n",
       " 'name': 'Vernal and Nevada Falls via the Mist Trail',\n",
       " 'popularity': 68.1488,\n",
       " 'type': 'trail',\n",
       " '_geoloc': {'lat': 37.73495, 'lng': -119.56619},\n",
       " 'length': 10299.776,\n",
       " 'elevation_gain': 667.8168000000001,\n",
       " 'difficulty_rating': '3',\n",
       " 'route_type': 'L',\n",
       " 'visitor_usage': '3',\n",
       " 'avg_rating': 5.0,\n",
       " 'area_id': 10106838,\n",
       " 'area_name': 'Yosemite National Park',\n",
       " 'country_id': 313,\n",
       " 'country_name': 'United States',\n",
       " 'city_id': 1036,\n",
       " 'city_name': 'Yosemite Valley',\n",
       " 'state_id': 5,\n",
       " 'state_name': 'California',\n",
       " 'verified_map_id': 22213085,\n",
       " 'features': ['dogs-no',\n",
       "  'forest',\n",
       "  'partially-paved',\n",
       "  'river',\n",
       "  'views',\n",
       "  'waterfall',\n",
       "  'wild-flowers',\n",
       "  'wildlife'],\n",
       " 'activities': ['birding', 'hiking', 'nature-trips', 'walking'],\n",
       " 'feature_names': ['Dogs No',\n",
       "  'Forest',\n",
       "  'Partially Paved',\n",
       "  'River',\n",
       "  'Views',\n",
       "  'Waterfall',\n",
       "  'Wild Flowers',\n",
       "  'Wildlife'],\n",
       " 'activity_names': ['Bird Watching', 'Hiking', 'Nature Trips', 'Walking'],\n",
       " 'overview': None,\n",
       " 'num_reviews': 1869,\n",
       " 'units': 'i',\n",
       " 'area_slug': 'parks/us/california/yosemite-national-park',\n",
       " 'trail_id': 10026910,\n",
       " 'city_url': 'us/california/yosemite-valley',\n",
       " 'park_slug': 'us/california/yosemite-national-park',\n",
       " 'profile_photo_url': 'https://cdn-assets.alltrails.com/uploads/photo/image/19059529/large_b6e159caf2511d16fd6dcd2b5ed6059f.jpg'}"
      ]
     },
     "execution_count": 38,
     "metadata": {},
     "output_type": "execute_result"
    }
   ],
   "source": [
    "trail = trails[0]\n",
    "trail"
   ]
  },
  {
   "cell_type": "code",
   "execution_count": 47,
   "metadata": {},
   "outputs": [
    {
     "name": "stdout",
     "output_type": "stream",
     "text": [
      "page 1\n",
      "page 2\n",
      "page 3\n",
      "page 4\n",
      "page 5\n",
      "page 6\n",
      "page 7\n",
      "State 51 (Oahu) done, 528 trails\n"
     ]
    }
   ],
   "source": [
    "# test it on hawaii again\n",
    "trails = list(getHawaii(366, 0))\n",
    "state = trails[0]['state_name']\n",
    "with open(f'./State Trails Data/Hawaii.json', 'w+') as out_file:\n",
    "    out_file.write(json.dumps(trails))\n",
    "    print(f'Hawaii ({state}) done, {len(trails)} trails')"
   ]
  },
  {
   "cell_type": "code",
   "execution_count": 50,
   "metadata": {},
   "outputs": [],
   "source": []
  },
  {
   "cell_type": "code",
   "execution_count": 53,
   "metadata": {},
   "outputs": [],
   "source": [
    "state = [\"Alabama\",\"Alaska\",\"Arizona\",\"Arkansas\",\"California\",\"Colorado\",\n",
    "  \"Connecticut\",\"Delaware\",\"Florida\",\"Georgia\",\"Hawaii\",\"Idaho\",\"Illinois\",\n",
    "  \"Indiana\",\"Iowa\",\"Kansas\",\"Kentucky\",\"Louisiana\",\"Maine\",\"Maryland\",\n",
    "  \"Massachusetts\",\"Michigan\",\"Minnesota\",\"Mississippi\",\"Missouri\",\"Montana\",\n",
    "  \"Nebraska\",\"Nevada\",\"New Hampshire\",\"New Jersey\",\"New Mexico\",\"New York\",\n",
    "  \"North Carolina\",\"North Dakota\",\"Ohio\",\"Oklahoma\",\"Oregon\",\"Pennsylvania\",\n",
    "  \"Rhode Island\",\"South Carolina\",\"South Dakota\",\"Tennessee\",\"Texas\",\"Utah\",\n",
    "  \"Vermont\",\"Virginia\",\"Washington\",\"West Virginia\",\"Wisconsin\",\"Wyoming\"]"
   ]
  },
  {
   "cell_type": "code",
   "execution_count": 54,
   "metadata": {},
   "outputs": [],
   "source": [
    "# scraping the site \n",
    "def get_all_hikes(browser):\n",
    "    for st in state:\n",
    "        browser.get(f'https://www.alltrails.com/us/{state}')\n",
    "        while True:\n",
    "            try:\n",
    "                load_hikes = WebDriverWait(browser, 20).until(EC.visibility_of_element_located((By.XPATH,\"//div[@id='load_more'] [@class='feed-item load-more trail-load'][//a]\")))\n",
    "                load_more_hikes.click()\n",
    "                time.sleep(7)\n",
    "            except:\n",
    "                break\n",
    "        soup = BeautifulSoup(browser.page_source)\n",
    "        return soup"
   ]
  },
  {
   "cell_type": "code",
   "execution_count": 52,
   "metadata": {},
   "outputs": [],
   "source": [
    "# scraping the details\n",
    "def parse_meta_data(hike_soup):\n",
    "    header = hike_soup.find('div', id='title-and-menu-box')\n",
    "    hike_name = header.findChild('h1').text\n",
    "    difficulty = header.findChild('span').text\n",
    "    stars = header.findChild('meta')['content']\n",
    "    num_reviews = header.find('span', itemprop='reviewCount').text\n",
    "    area = hike_soup.select('div.trail-rank')\n",
    "    try:\n",
    "        hike_region = area[0].findChild('span', itemprop='name').text\n",
    "    except:\n",
    "        hike_region = area[0].findChild('a').text\n",
    "    # directions = header.select('li.bar-icon.trail-directions')\n",
    "    try:\n",
    "        distance = hike_soup.select('span.distance-icon')[0].text\n",
    "    except:\n",
    "        distance = None\n",
    "    try:\n",
    "        elevation_gain = hike_soup.select('span.elevation-icon')[0].text\n",
    "    except:\n",
    "        elevation_gain = None\n",
    "    try:\n",
    "        route_type = hike_soup.select('span.route-icon')[0].text\n",
    "    except:\n",
    "        route_type = None\n",
    "    tags = hike_soup.select('section.tag-cloud')[0].findChildren('h3')\n",
    "    hike_attributes = []\n",
    "    for tag in tags:\n",
    "        hike_attributes.append(tag.text)\n",
    "    user_ratings = []\n",
    "    users = hike_soup.select('div.feed-user-content.rounded')\n",
    "    for user in users:\n",
    "        if user.find('span', itemprop='author') != None:\n",
    "            user_name = user.find('span', itemprop='author').text\n",
    "            user_name = user_name.replace('.', '')\n",
    "            try:\n",
    "                rating = user.find('span', itemprop=\"reviewRating\").findChildren('meta')[0]['content']\n",
    "                user_ratings.append({user_name: rating})\n",
    "            except:\n",
    "                pass\n",
    "    row_data = {}\n",
    "    row_data['hike_name'] = hike_name\n",
    "    row_data['hike_difficulty'] = difficulty\n",
    "    row_data['stars'] = stars\n",
    "    row_data['num_reviews'] = num_reviews\n",
    "    row_data['hike_region'] = hike_region\n",
    "    row_data['total_distance'] = distance\n",
    "    row_data['elevation_gain'] = elevation_gain\n",
    "    row_data['route_type'] = route_type\n",
    "    row_data['hike_attributes'] = hike_attributes\n",
    "    row_data['ratings'] = user_ratings\n",
    "    return row_data"
   ]
  },
  {
   "cell_type": "code",
   "execution_count": 55,
   "metadata": {},
   "outputs": [
    {
     "ename": "WebDriverException",
     "evalue": "Message: 'chromedriver' executable needs to be in PATH. Please see https://sites.google.com/a/chromium.org/chromedriver/home\n",
     "output_type": "error",
     "traceback": [
      "\u001b[0;31m---------------------------------------------------------------------------\u001b[0m",
      "\u001b[0;31mFileNotFoundError\u001b[0m                         Traceback (most recent call last)",
      "\u001b[0;32m~/anaconda3/lib/python3.7/site-packages/selenium/webdriver/common/service.py\u001b[0m in \u001b[0;36mstart\u001b[0;34m(self)\u001b[0m\n\u001b[1;32m     75\u001b[0m                                             \u001b[0mstderr\u001b[0m\u001b[0;34m=\u001b[0m\u001b[0mself\u001b[0m\u001b[0;34m.\u001b[0m\u001b[0mlog_file\u001b[0m\u001b[0;34m,\u001b[0m\u001b[0;34m\u001b[0m\u001b[0;34m\u001b[0m\u001b[0m\n\u001b[0;32m---> 76\u001b[0;31m                                             stdin=PIPE)\n\u001b[0m\u001b[1;32m     77\u001b[0m         \u001b[0;32mexcept\u001b[0m \u001b[0mTypeError\u001b[0m\u001b[0;34m:\u001b[0m\u001b[0;34m\u001b[0m\u001b[0;34m\u001b[0m\u001b[0m\n",
      "\u001b[0;32m~/anaconda3/lib/python3.7/subprocess.py\u001b[0m in \u001b[0;36m__init__\u001b[0;34m(self, args, bufsize, executable, stdin, stdout, stderr, preexec_fn, close_fds, shell, cwd, env, universal_newlines, startupinfo, creationflags, restore_signals, start_new_session, pass_fds, encoding, errors, text)\u001b[0m\n\u001b[1;32m    774\u001b[0m                                 \u001b[0merrread\u001b[0m\u001b[0;34m,\u001b[0m \u001b[0merrwrite\u001b[0m\u001b[0;34m,\u001b[0m\u001b[0;34m\u001b[0m\u001b[0;34m\u001b[0m\u001b[0m\n\u001b[0;32m--> 775\u001b[0;31m                                 restore_signals, start_new_session)\n\u001b[0m\u001b[1;32m    776\u001b[0m         \u001b[0;32mexcept\u001b[0m\u001b[0;34m:\u001b[0m\u001b[0;34m\u001b[0m\u001b[0;34m\u001b[0m\u001b[0m\n",
      "\u001b[0;32m~/anaconda3/lib/python3.7/subprocess.py\u001b[0m in \u001b[0;36m_execute_child\u001b[0;34m(self, args, executable, preexec_fn, close_fds, pass_fds, cwd, env, startupinfo, creationflags, shell, p2cread, p2cwrite, c2pread, c2pwrite, errread, errwrite, restore_signals, start_new_session)\u001b[0m\n\u001b[1;32m   1521\u001b[0m                             \u001b[0merr_msg\u001b[0m \u001b[0;34m+=\u001b[0m \u001b[0;34m': '\u001b[0m \u001b[0;34m+\u001b[0m \u001b[0mrepr\u001b[0m\u001b[0;34m(\u001b[0m\u001b[0merr_filename\u001b[0m\u001b[0;34m)\u001b[0m\u001b[0;34m\u001b[0m\u001b[0;34m\u001b[0m\u001b[0m\n\u001b[0;32m-> 1522\u001b[0;31m                     \u001b[0;32mraise\u001b[0m \u001b[0mchild_exception_type\u001b[0m\u001b[0;34m(\u001b[0m\u001b[0merrno_num\u001b[0m\u001b[0;34m,\u001b[0m \u001b[0merr_msg\u001b[0m\u001b[0;34m,\u001b[0m \u001b[0merr_filename\u001b[0m\u001b[0;34m)\u001b[0m\u001b[0;34m\u001b[0m\u001b[0;34m\u001b[0m\u001b[0m\n\u001b[0m\u001b[1;32m   1523\u001b[0m                 \u001b[0;32mraise\u001b[0m \u001b[0mchild_exception_type\u001b[0m\u001b[0;34m(\u001b[0m\u001b[0merr_msg\u001b[0m\u001b[0;34m)\u001b[0m\u001b[0;34m\u001b[0m\u001b[0;34m\u001b[0m\u001b[0m\n",
      "\u001b[0;31mFileNotFoundError\u001b[0m: [Errno 2] No such file or directory: 'chromedriver': 'chromedriver'",
      "\nDuring handling of the above exception, another exception occurred:\n",
      "\u001b[0;31mWebDriverException\u001b[0m                        Traceback (most recent call last)",
      "\u001b[0;32m<ipython-input-55-259c45122075>\u001b[0m in \u001b[0;36m<module>\u001b[0;34m\u001b[0m\n\u001b[0;32m----> 1\u001b[0;31m \u001b[0mbrowser\u001b[0m \u001b[0;34m=\u001b[0m \u001b[0mwebdriver\u001b[0m\u001b[0;34m.\u001b[0m\u001b[0mChrome\u001b[0m\u001b[0;34m(\u001b[0m\u001b[0;34m)\u001b[0m\u001b[0;34m\u001b[0m\u001b[0;34m\u001b[0m\u001b[0m\n\u001b[0m\u001b[1;32m      2\u001b[0m \u001b[0msoup\u001b[0m \u001b[0;34m=\u001b[0m \u001b[0mget_all_hikes\u001b[0m\u001b[0;34m(\u001b[0m\u001b[0mbrowser\u001b[0m\u001b[0;34m)\u001b[0m\u001b[0;34m\u001b[0m\u001b[0;34m\u001b[0m\u001b[0m\n\u001b[1;32m      3\u001b[0m \u001b[0mcreate_db\u001b[0m\u001b[0;34m(\u001b[0m\u001b[0msoup\u001b[0m\u001b[0;34m,\u001b[0m \u001b[0mbrowser\u001b[0m\u001b[0;34m)\u001b[0m\u001b[0;34m\u001b[0m\u001b[0;34m\u001b[0m\u001b[0m\n",
      "\u001b[0;32m~/anaconda3/lib/python3.7/site-packages/selenium/webdriver/chrome/webdriver.py\u001b[0m in \u001b[0;36m__init__\u001b[0;34m(self, executable_path, port, options, service_args, desired_capabilities, service_log_path, chrome_options, keep_alive)\u001b[0m\n\u001b[1;32m     71\u001b[0m             \u001b[0mservice_args\u001b[0m\u001b[0;34m=\u001b[0m\u001b[0mservice_args\u001b[0m\u001b[0;34m,\u001b[0m\u001b[0;34m\u001b[0m\u001b[0;34m\u001b[0m\u001b[0m\n\u001b[1;32m     72\u001b[0m             log_path=service_log_path)\n\u001b[0;32m---> 73\u001b[0;31m         \u001b[0mself\u001b[0m\u001b[0;34m.\u001b[0m\u001b[0mservice\u001b[0m\u001b[0;34m.\u001b[0m\u001b[0mstart\u001b[0m\u001b[0;34m(\u001b[0m\u001b[0;34m)\u001b[0m\u001b[0;34m\u001b[0m\u001b[0;34m\u001b[0m\u001b[0m\n\u001b[0m\u001b[1;32m     74\u001b[0m \u001b[0;34m\u001b[0m\u001b[0m\n\u001b[1;32m     75\u001b[0m         \u001b[0;32mtry\u001b[0m\u001b[0;34m:\u001b[0m\u001b[0;34m\u001b[0m\u001b[0;34m\u001b[0m\u001b[0m\n",
      "\u001b[0;32m~/anaconda3/lib/python3.7/site-packages/selenium/webdriver/common/service.py\u001b[0m in \u001b[0;36mstart\u001b[0;34m(self)\u001b[0m\n\u001b[1;32m     81\u001b[0m                 raise WebDriverException(\n\u001b[1;32m     82\u001b[0m                     \"'%s' executable needs to be in PATH. %s\" % (\n\u001b[0;32m---> 83\u001b[0;31m                         os.path.basename(self.path), self.start_error_message)\n\u001b[0m\u001b[1;32m     84\u001b[0m                 )\n\u001b[1;32m     85\u001b[0m             \u001b[0;32melif\u001b[0m \u001b[0merr\u001b[0m\u001b[0;34m.\u001b[0m\u001b[0merrno\u001b[0m \u001b[0;34m==\u001b[0m \u001b[0merrno\u001b[0m\u001b[0;34m.\u001b[0m\u001b[0mEACCES\u001b[0m\u001b[0;34m:\u001b[0m\u001b[0;34m\u001b[0m\u001b[0;34m\u001b[0m\u001b[0m\n",
      "\u001b[0;31mWebDriverException\u001b[0m: Message: 'chromedriver' executable needs to be in PATH. Please see https://sites.google.com/a/chromium.org/chromedriver/home\n"
     ]
    }
   ],
   "source": [
    "browser = webdriver.Chrome()\n",
    "soup = get_all_hikes(browser)\n",
    "create_db(soup, browser)"
   ]
  },
  {
   "cell_type": "code",
   "execution_count": null,
   "metadata": {},
   "outputs": [],
   "source": []
  }
 ],
 "metadata": {
  "kernelspec": {
   "display_name": "Python 3",
   "language": "python",
   "name": "python3"
  },
  "language_info": {
   "codemirror_mode": {
    "name": "ipython",
    "version": 3
   },
   "file_extension": ".py",
   "mimetype": "text/x-python",
   "name": "python",
   "nbconvert_exporter": "python",
   "pygments_lexer": "ipython3",
   "version": "3.7.3"
  }
 },
 "nbformat": 4,
 "nbformat_minor": 2
}
